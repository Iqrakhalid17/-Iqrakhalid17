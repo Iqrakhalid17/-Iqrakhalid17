{
 "cells": [
  {
   "cell_type": "code",
   "execution_count": 1,
   "id": "7315d66a",
   "metadata": {},
   "outputs": [],
   "source": [
    "class ToDoList:\n",
    "    def __init__(self):\n",
    "        self.tasks = {}\n",
    "\n",
    "    def add_task(self, task):\n",
    "        self.tasks[len(self.tasks) + 1] = task\n",
    "\n",
    "    def update_task(self, task_id, updated_task):\n",
    "        if task_id in self.tasks:\n",
    "            self.tasks[task_id] = updated_task\n",
    "            return True\n",
    "        else:\n",
    "            return False\n",
    "\n",
    "    def delete_task(self, task_id):\n",
    "        if task_id in self.tasks:\n",
    "            del self.tasks[task_id]\n",
    "            return True\n",
    "        else:\n",
    "            return False\n",
    "\n",
    "    def display_tasks(self):\n",
    "        for id, task in self.tasks.items():\n",
    "            print(f\"{id}: {task}\")\n",
    "\n"
   ]
  },
  {
   "cell_type": "code",
   "execution_count": null,
   "id": "ae70cfe1",
   "metadata": {},
   "outputs": [
    {
     "name": "stdout",
     "output_type": "stream",
     "text": [
      "\n",
      "To-Do List Application\n",
      "1: Add Task\n",
      "2: Update Task\n",
      "3: Delete Task\n",
      "4: View Tasks\n",
      "5: Exit\n",
      "Enter choice: 1\n",
      "Enter task to add: do work\n",
      "\n",
      "To-Do List Application\n",
      "1: Add Task\n",
      "2: Update Task\n",
      "3: Delete Task\n",
      "4: View Tasks\n",
      "5: Exit\n"
     ]
    }
   ],
   "source": [
    "def main():\n",
    "    todo_list = ToDoList()\n",
    "    while True:\n",
    "        print(\"\\nTo-Do List Application\")\n",
    "        print(\"1: Add Task\")\n",
    "        print(\"2: Update Task\")\n",
    "        print(\"3: Delete Task\")\n",
    "        print(\"4: View Tasks\")\n",
    "        print(\"5: Exit\")\n",
    "        choice = input(\"Enter choice: \")\n",
    "\n",
    "        if choice == \"1\":\n",
    "            task = input(\"Enter task to add: \")\n",
    "            todo_list.add_task(task)\n",
    "        elif choice == \"2\":\n",
    "            task_id = int(input(\"Enter task ID to update: \"))\n",
    "            updated_task = input(\"Enter the updated task: \")\n",
    "            if not todo_list.update_task(task_id, updated_task):\n",
    "                print(\"Task not found.\")\n",
    "        elif choice == \"3\":\n",
    "            task_id = int(input(\"Enter task ID to delete: \"))\n",
    "            if not todo_list.delete_task(task_id):\n",
    "                print(\"Task not found.\")\n",
    "        elif choice == \"4\":\n",
    "            todo_list.display_tasks()\n",
    "        elif choice == \"5\":\n",
    "            break\n",
    "        else:\n",
    "            print(\"Invalid choice. Please choose again.\")\n",
    "\n",
    "if __name__ == \"__main__\":\n",
    "    main()"
   ]
  },
  {
   "cell_type": "code",
   "execution_count": null,
   "id": "9f2ffea6",
   "metadata": {},
   "outputs": [],
   "source": []
  }
 ],
 "metadata": {
  "kernelspec": {
   "display_name": "Python 3 (ipykernel)",
   "language": "python",
   "name": "python3"
  },
  "language_info": {
   "codemirror_mode": {
    "name": "ipython",
    "version": 3
   },
   "file_extension": ".py",
   "mimetype": "text/x-python",
   "name": "python",
   "nbconvert_exporter": "python",
   "pygments_lexer": "ipython3",
   "version": "3.11.4"
  }
 },
 "nbformat": 4,
 "nbformat_minor": 5
}
