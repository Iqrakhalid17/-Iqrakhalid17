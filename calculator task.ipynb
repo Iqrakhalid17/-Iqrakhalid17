{
 "cells": [
  {
   "cell_type": "code",
   "execution_count": 2,
   "id": "382e882b",
   "metadata": {},
   "outputs": [],
   "source": [
    "import calculator"
   ]
  },
  {
   "cell_type": "code",
   "execution_count": 8,
   "id": "5c873684",
   "metadata": {},
   "outputs": [
    {
     "name": "stdout",
     "output_type": "stream",
     "text": [
      "810\n"
     ]
    }
   ],
   "source": [
    "\n",
    "def addition(x,y):\n",
    "   return x+y\n",
    "\n",
    "\n",
    "def subtraction(x,y):\n",
    "   return x-y\n",
    "\n",
    "\n",
    "def multiplication(x,y):\n",
    "   return x*y\n",
    "\n",
    "\n",
    "def division(x,y):\n",
    "   return x/y  \n",
    "\n",
    "def remainder(x,y):\n",
    "   return x%y\n",
    "\n",
    "print(multiplication(9,90))"
   ]
  },
  {
   "cell_type": "code",
   "execution_count": null,
   "id": "b30e06ae",
   "metadata": {},
   "outputs": [],
   "source": []
  }
 ],
 "metadata": {
  "kernelspec": {
   "display_name": "Python 3 (ipykernel)",
   "language": "python",
   "name": "python3"
  },
  "language_info": {
   "codemirror_mode": {
    "name": "ipython",
    "version": 3
   },
   "file_extension": ".py",
   "mimetype": "text/x-python",
   "name": "python",
   "nbconvert_exporter": "python",
   "pygments_lexer": "ipython3",
   "version": "3.11.4"
  }
 },
 "nbformat": 4,
 "nbformat_minor": 5
}
